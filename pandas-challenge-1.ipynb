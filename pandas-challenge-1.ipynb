{
 "cells": [
  {
   "cell_type": "code",
   "execution_count": null,
   "metadata": {},
   "outputs": [],
   "source": [
    "# Import Dependencies\n",
    "import pandas as pd\n",
    "import numpy as np"
   ]
  },
  {
   "cell_type": "code",
   "execution_count": null,
   "metadata": {},
   "outputs": [],
   "source": [
    "# Create a path to the csv and read it into a Pandas DataFrame\n",
    "\n",
    "df = pd.read_csv(\"client_dataset.csv\")\n",
    "\n",
    "df.head()"
   ]
  },
  {
   "cell_type": "code",
   "execution_count": null,
   "metadata": {},
   "outputs": [],
   "source": [
    "# View the column names in the data\n",
    "df.columns"
   ]
  },
  {
   "cell_type": "code",
   "execution_count": null,
   "metadata": {},
   "outputs": [],
   "source": [
    "# Use the describe function to gather some basic statistics\n",
    "df.describe()"
   ]
  },
  {
   "cell_type": "code",
   "execution_count": null,
   "metadata": {},
   "outputs": [],
   "source": [
    "# Use this space to do any additional research\n",
    "# and familiarize yourself with the data.\n",
    "df.info()\n"
   ]
  },
  {
   "cell_type": "code",
   "execution_count": null,
   "metadata": {},
   "outputs": [],
   "source": [
    "# What three item categories had the most entries?\n",
    "top_categories = df['category'].value_counts().head(3)\n",
    "top_categories\n",
    "\n"
   ]
  },
  {
   "cell_type": "code",
   "execution_count": null,
   "metadata": {},
   "outputs": [],
   "source": [
    "# For the category with the most entries, which subcategory had the most entries?\n",
    " \n",
    "top_subcategory_in_top_category = client_df ['subcategory'].value_counts()\n",
    "top_subcategory_in_top_category.head()"
   ]
  },
  {
   "cell_type": "code",
   "execution_count": null,
   "metadata": {},
   "outputs": [],
   "source": [
    "# Which five clients had the most entries in the data?\n",
    "top_clients = client_df ['client_id'].value_counts().head(5)\n",
    "top_clients"
   ]
  },
  {
   "cell_type": "code",
   "execution_count": null,
   "metadata": {},
   "outputs": [],
   "source": [
    "# Store the client IDs of those top 5 clients in a list\n",
    "\n",
    "df[['client_id', 'first','last']].value_counts().head()"
   ]
  },
  {
   "cell_type": "code",
   "execution_count": null,
   "metadata": {},
   "outputs": [],
   "source": [
    "# How many total units (the qty column) did the client with the most entries order?\n",
    "top_client_id = client_df['client_id'].value_counts()\n",
    "most_entries_client_id = top_client_id.idxmax()\n",
    "most_entries_client_df = df[df['client_id'] == most_entries_client_id]\n",
    "total_units = most_entries_client_df['qty'].sum()\n",
    "print (total_units)"
   ]
  },
  {
   "cell_type": "code",
   "execution_count": null,
   "metadata": {},
   "outputs": [],
   "source": [
    "# Create a column that calculates the subtotal for each line using the unit_price and the qty\n",
    "df['subtotal'] = df['qty'] * df['unit_price']\n",
    "totals = df[['subtotal','qty', 'unit_price']].head()\n",
    "totals"
   ]
  },
  {
   "cell_type": "code",
   "execution_count": null,
   "metadata": {},
   "outputs": [],
   "source": [
    "# Create a column for shipping price.\n",
    "# Assume a shipping price of $7 per pound for orders over 50 pounds and $10 per pound for items 50 pounds or under.\n",
    "total_weight = df ['unit_weight'] * df ['qty']\n",
    "df ['total_weight'] = total_weight\n",
    "\n",
    "shipping = df.apply(lambda x: x['total_weight']*7 \\\n",
    "                           if x['total_weight'] > 50 else x ['total_weight']* 10, axis=1)\n",
    "\n",
    "shipping_price =  df['shipping_price'] = shipping\n",
    "\n",
    "\n",
    "df [['unit_price', 'unit_weight', 'qty', 'total_weight', 'shipping_price',]].head()"
   ]
  },
  {
   "cell_type": "code",
   "execution_count": null,
   "metadata": {},
   "outputs": [],
   "source": [
    "# Create a column for the total price using the subtotal and the shipping price along with a sales tax of 9.25%\n",
    "df['total_price'] = round(((df['subtotal'] + df['shipping_price']) *1.0925),2)\n",
    "df['tax_payable'] = round(((df['subtotal'] + df['shipping_price']) *0.0925),2)\n",
    "df[['subtotal', 'shipping_price','tax_payable','total_price']].head()\n",
    " "
   ]
  },
  {
   "cell_type": "code",
   "execution_count": null,
   "metadata": {},
   "outputs": [],
   "source": [
    "\n",
    "#reate a column for the total price using the subtotal and the shipping price along with a sales tax of 9.25%\n",
    "df['line_cost'] = (df['unit_cost'] * df['qty']) + df['shipping_price']\n",
    "df[['unit_cost', 'qty', 'shipping_price','line_cost']].head()"
   ]
  },
  {
   "cell_type": "code",
   "execution_count": null,
   "metadata": {},
   "outputs": [],
   "source": [
    "# Create a column for the cost of each line using unit cost, qty, and shipping price (assume the shipping cost is exactly what is charged to the client).\n",
    "df['line_profit'] = df['total_price'] - df['line_cost']\n",
    "round(df[['total_price', 'line_cost','line_profit']].head(),2)"
   ]
  },
  {
   "cell_type": "code",
   "execution_count": null,
   "metadata": {},
   "outputs": [],
   "source": [
    "# Create a column for the profit of each line using line cost and line price.\n",
    "df ['line_cost'] = df ['unit_cost'] *  df ['qty'] + df ['shipping_price']\n",
    "df"
   ]
  },
  {
   "cell_type": "code",
   "execution_count": null,
   "metadata": {},
   "outputs": [],
   "source": [
    "# How much did each of the top 5 clients by quantity spend? Use your work from Part 1 for client ids?\n",
    "# Check your work using the totals above\n",
    "\n",
    "\n",
    "order_ids\t = [2742071, 2173913, 6128929]\n",
    "\n",
    "def find_orders(order_id):\n",
    "    order_lines_df = df.loc[df['order_id'] == order_id, 'total_price']\n",
    "    return round(order_lines_df.sum(),2)\n",
    "\n",
    "for order_id in order_ids:\n",
    "    print(f\"Order {order_id} total: ${find_orders(order_id)}\")\n",
    "    "
   ]
  },
  {
   "cell_type": "code",
   "execution_count": null,
   "metadata": {},
   "outputs": [],
   "source": [
    "# How much did each of the top 5 clients by quantity spend? Check your work from Part 1 for client ids.\n",
    "\n",
    "df[['client_id', 'first','last']].value_counts().head()\n",
    "                                                                                                                                         "
   ]
  },
  {
   "cell_type": "code",
   "execution_count": null,
   "metadata": {},
   "outputs": [],
   "source": [
    "# Create a summary DataFrame showing the totals for the for the top 5 clients with the following information:\n",
    "# total units purchased, total shipping price, total revenue, and total profit. \n",
    "data_dictionary = {'client_id': top_five_client_ids }\n",
    "columns = ['qty','shipping_price','total_price','line_cost','line_profit'] \n",
    "for col in columns:\n",
    "    data_dictionary[col] = [clients_total(client_id, col) \n",
    "                           for client_id in top_five_client_ids]\n",
    "    \n",
    "new_data_frame = pd.DataFrame(data_dictionary)\n",
    "new_data_frame\n",
    "\n"
   ]
  },
  {
   "cell_type": "code",
   "execution_count": null,
   "metadata": {},
   "outputs": [],
   "source": [
    "#create total price\n",
    "\n",
    "def clients_total(client_id, column):\n",
    "    client_df = df.loc[df['client_id'] == client_id, column]  \n",
    "    return round(client_df.sum(),2)\n",
    "\n",
    "for client_id in top_five_client_ids:\n",
    "    print(f\"{client_id} total: ${clients_total(client_id, 'total_price')}\")"
   ]
  },
  {
   "cell_type": "code",
   "execution_count": null,
   "metadata": {},
   "outputs": [],
   "source": [
    "#rename the Dataframe\n",
    "data_dictionary = {'client_id': top_five_client_ids }\n",
    "columns = ['qty','shipping_price','total_price','line_cost','line_profit'] \n",
    "for col in columns:\n",
    "    data_dictionary[col] = [clients_total(client_id, col) \n",
    "                           for client_id in top_five_client_ids]\n",
    "    \n",
    "new_data_frame = pd.DataFrame(data_dictionary)\n",
    "new_data_frame"
   ]
  },
  {
   "cell_type": "code",
   "execution_count": null,
   "metadata": {},
   "outputs": [],
   "source": [
    "# Format the data and rename the columns to names suitable for presentation.\n",
    "# Format the data and rename the columns to names suitable for presentation.\n",
    "# Define the money columns. \n",
    "# Define a function that converts a dollar amount to millions.\n",
    "# Apply the currency_format_millions function to only the money columns. \n",
    "# Rename the columns to reflect the change in the money format. \n",
    "\n",
    "columns = ['line_profit','total_price', 'shipping_price','line_cost'] \n",
    "\n",
    "def currency_million(amount):\n",
    "    return amount/1000000\n",
    "\n",
    "for col in columns:\n",
    "    new_data_frame[col] = new_data_frame[col].apply(currency_million)\n",
    "new_data_frame"
   ]
  },
  {
   "cell_type": "code",
   "execution_count": null,
   "metadata": {},
   "outputs": [],
   "source": [
    "# Rename the columns to reflect the change in the money format. \n",
    "new_data_frame = new_data_frame.rename(columns={'client_id': \"Client Id\",\n",
    "                               'qty': \"Quantity Purchased\",\n",
    "                               'shipping_price': \"Shipping Costs (Millions)\" ,\n",
    "                               'total_price': \"Gross Revenue (Millions)\",\n",
    "                               'line_cost': \"Total Costs (Millions)\",\n",
    "                               'line_profit':\"Total Profit (Millions)\" }\n",
    "                      )\n",
    "new_data_frame"
   ]
  },
  {
   "cell_type": "code",
   "execution_count": null,
   "metadata": {},
   "outputs": [],
   "source": [
    "# Sort the updated data by \"Total Profit (millions)\" form highest to lowest and assign the sort to a new DatFrame.\n",
    "\n",
    "sort_new_data = new_data_frame.sort_values((\"Total Profit (Millions)\"), ascending=False)\n",
    "sort_new_data"
   ]
  },
  {
   "cell_type": "code",
   "execution_count": null,
   "metadata": {},
   "outputs": [],
   "source": [
    "#Summary and Analyza\n",
    "\n",
    "# Client 24741 had the most units purchased and total profits\n",
    "# Client 33615 had the least units purchased and total profits \n"
   ]
  }
 ],
 "metadata": {
  "kernelspec": {
   "display_name": "dev",
   "language": "python",
   "name": "python3"
  },
  "language_info": {
   "codemirror_mode": {
    "name": "ipython",
    "version": 3
   },
   "file_extension": ".py",
   "mimetype": "text/x-python",
   "name": "python",
   "nbconvert_exporter": "python",
   "pygments_lexer": "ipython3",
   "version": "3.10.14"
  }
 },
 "nbformat": 4,
 "nbformat_minor": 2
}
